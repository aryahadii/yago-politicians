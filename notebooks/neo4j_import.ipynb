{
 "cells": [
  {
   "cell_type": "markdown",
   "metadata": {},
   "source": [
    "# Cleanup YAGO's data"
   ]
  },
  {
   "cell_type": "markdown",
   "metadata": {},
   "source": [
    "### YAGO Labels"
   ]
  },
  {
   "cell_type": "code",
   "execution_count": 1,
   "metadata": {},
   "outputs": [],
   "source": [
    "import csv\n",
    "\n",
    "with open('yagoLabels.tsv', 'r') as labels:\n",
    "    reader = csv.reader(labels, delimiter='\\t')\n",
    "    next(reader) # Skip license descriptions\n",
    "\n",
    "    with open('yago_entities.tsv', 'w+') as entities_file:\n",
    "        entities_file.write(':ID\\tname\\t:LABEL\\n') # TSV Header (entities)\n",
    "        \n",
    "        with open('yago_rels.tsv', 'w+') as rels_file:\n",
    "            rels_file.write(':START_ID\\t:END_ID\\t:TYPE\\n') # TSV Header (relations)\n",
    "            \n",
    "            for i, row in enumerate(reader):\n",
    "                entity = row[1]\n",
    "                entities_file.write('{}\\t{}\\tEntity\\n'.format(entity, entity))\n",
    "\n",
    "                label = row[3]\n",
    "                entities_file.write('{}\\t{}\\tLabel\\n'.format('{}{}'.format(i, label), label))\n",
    "\n",
    "                relation = row[2]\n",
    "                if relation[0] == '<':\n",
    "                    relation = relation[1:-1]\n",
    "                if ':' in relation:\n",
    "                    relation = relation.split(':')[1]\n",
    "                rels_file.write('{}\\t{}\\t{}\\n'.format(entity, '{}{}'.format(i, label), relation))"
   ]
  },
  {
   "cell_type": "markdown",
   "metadata": {},
   "source": [
    "### YAGO Facts"
   ]
  },
  {
   "cell_type": "code",
   "execution_count": 2,
   "metadata": {},
   "outputs": [],
   "source": [
    "import csv\n",
    "\n",
    "with open('yagoFacts.tsv', 'r') as facts_file:\n",
    "    facts_reader = csv.reader(facts_file, delimiter='\\t')\n",
    "    next(facts_reader) # Skip license descriptions\n",
    "    \n",
    "    with open('yago_entities.tsv', 'a') as entities_file:\n",
    "        with open('yago_rels.tsv', 'a') as rels_file:\n",
    "            \n",
    "            for row in facts_reader:\n",
    "                entities_file.write('{}\\t{}\\tEntity\\n'.format(row[1], row[1]))\n",
    "                entities_file.write('{}\\t{}\\tEntity\\n'.format(row[3], row[3]))\n",
    "                rels_file.write('{}\\t{}\\t{}\\n'.format(row[1], row[3], row[2][1:-1]))"
   ]
  },
  {
   "cell_type": "markdown",
   "metadata": {},
   "source": [
    "### YAGO Types"
   ]
  },
  {
   "cell_type": "code",
   "execution_count": 3,
   "metadata": {},
   "outputs": [],
   "source": [
    "import csv\n",
    "\n",
    "with open('yagoTypes.tsv', 'r') as types_file:\n",
    "    types_reader = csv.reader(types_file, delimiter='\\t')\n",
    "    next(types_reader) # Skip license descriptions\n",
    "    \n",
    "    with open('yago_entities.tsv', 'a') as entities_file:\n",
    "        with open('yago_rels.tsv', 'a') as rels_file:\n",
    "            for row in types_reader:\n",
    "                entities_file.write('{}\\t{}\\tEntity\\n'.format(row[3], row[3]))\n",
    "                rels_file.write('{}\\t{}\\ttype\\n'.format(row[1], row[3]))"
   ]
  },
  {
   "cell_type": "markdown",
   "metadata": {},
   "source": [
    "*There are some duplicates in `yago_entities.tsv`, run following command in `bash` to delete them:*\n",
    "``` \n",
    "$ awk '!a[$0]++' yago_entities.tsv > yago_entities_nodup.tsv\n",
    "```"
   ]
  },
  {
   "cell_type": "markdown",
   "metadata": {},
   "source": [
    "---\n",
    "\n",
    "# Import data to Neo4j\n",
    "Run following `bash` command to import data into Neo4j:\n",
    "\n",
    "``` bash\n",
    "neo4j-admin import --database=\"graph.db\" \\\n",
    "\t--nodes \"import/yago_entities_nondup.tsv\" \\\n",
    "\t--relationships \"import/yago_rels.tsv\" \\\n",
    "\t--delimiter=\"\\t\"\n",
    "```"
   ]
  }
 ],
 "metadata": {
  "kernelspec": {
   "display_name": "db-kernel",
   "language": "python",
   "name": "db-kernel"
  },
  "language_info": {
   "codemirror_mode": {
    "name": "ipython",
    "version": 3
   },
   "file_extension": ".py",
   "mimetype": "text/x-python",
   "name": "python",
   "nbconvert_exporter": "python",
   "pygments_lexer": "ipython3",
   "version": "3.6.5"
  }
 },
 "nbformat": 4,
 "nbformat_minor": 2
}
