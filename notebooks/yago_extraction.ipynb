{
 "cells": [
  {
   "cell_type": "markdown",
   "metadata": {},
   "source": [
    "## Init Database"
   ]
  },
  {
   "cell_type": "code",
   "execution_count": 1,
   "metadata": {},
   "outputs": [],
   "source": [
    "from sqlalchemy import create_engine\n",
    "from sqlalchemy.orm import sessionmaker\n",
    "\n",
    "engine = create_engine('sqlite:///yago.db')\n",
    "DBSession = sessionmaker(bind=engine)\n",
    "db_session = DBSession()"
   ]
  },
  {
   "cell_type": "markdown",
   "metadata": {},
   "source": [
    "Define tables:"
   ]
  },
  {
   "cell_type": "code",
   "execution_count": 2,
   "metadata": {},
   "outputs": [],
   "source": [
    "from sqlalchemy import Column, String, Integer, ForeignKey, CHAR\n",
    "from sqlalchemy.ext.declarative import declarative_base\n",
    "from sqlalchemy.orm import relationship\n",
    "import sqlite3\n",
    "\n",
    "Base = declarative_base()"
   ]
  },
  {
   "cell_type": "code",
   "execution_count": 3,
   "metadata": {},
   "outputs": [],
   "source": [
    "class Country(Base):\n",
    "    __tablename__ = 'country'\n",
    "    \n",
    "    country_id = Column(String(64), primary_key=True)\n",
    "    \n",
    "    def __init__(self, country_id):\n",
    "        self.country_id = country_id"
   ]
  },
  {
   "cell_type": "code",
   "execution_count": 4,
   "metadata": {},
   "outputs": [],
   "source": [
    "class University(Base):\n",
    "    __tablename__ = 'university'\n",
    "    \n",
    "    university_id = Column(String(64), primary_key=True)\n",
    "    \n",
    "    def __init__(self, university_id):\n",
    "        self.university_id = university_id"
   ]
  },
  {
   "cell_type": "code",
   "execution_count": 5,
   "metadata": {},
   "outputs": [],
   "source": [
    "class Politician(Base):\n",
    "    __tablename__ = 'politician'\n",
    "    \n",
    "    politician_id = Column(String(64), primary_key=True)\n",
    "    gender = Column(CHAR)\n",
    "    given_name = Column(String(64))\n",
    "    family_name = Column(String(64))\n",
    "    \n",
    "    def __init__(self, politician_id):\n",
    "        self.politician_id = politician_id"
   ]
  },
  {
   "cell_type": "code",
   "execution_count": 6,
   "metadata": {},
   "outputs": [],
   "source": [
    "class PoliticianCountry(Base):\n",
    "    __tablename__ = 'politician_country'\n",
    "\n",
    "    politician_id = Column(String(64), ForeignKey('politician.politician_id'), unique=False, primary_key=True)\n",
    "    politician = relationship(Politician)\n",
    "    country_id = Column(String(64), ForeignKey('country.country_id'), unique=False, primary_key=True)\n",
    "    country = relationship(Country)\n",
    "    \n",
    "    def __init__(self, politician, country):\n",
    "        self.politician = politician\n",
    "        self.country = country"
   ]
  },
  {
   "cell_type": "code",
   "execution_count": 7,
   "metadata": {},
   "outputs": [],
   "source": [
    "class PoliticianUniversity(Base):\n",
    "    __tablename__ = 'politician_university'\n",
    "\n",
    "    politician_id = Column(String(64), ForeignKey('politician.politician_id'), unique=False, primary_key=True)\n",
    "    politician = relationship(Politician)\n",
    "    university_id = Column(String(64), ForeignKey('university.university_id'), unique=False, primary_key=True)\n",
    "    university = relationship(University)\n",
    "    \n",
    "    def __init__(self, politician, university):\n",
    "        self.politician = politician\n",
    "        self.university = university"
   ]
  },
  {
   "cell_type": "code",
   "execution_count": 8,
   "metadata": {},
   "outputs": [],
   "source": [
    "class Prize(Base):\n",
    "    __tablename__ = 'prize'\n",
    "    \n",
    "    prize_id = Column(String(128), primary_key=True)\n",
    "    \n",
    "    def __init__(self, prize_id):\n",
    "        self.prize_id = prize_id"
   ]
  },
  {
   "cell_type": "code",
   "execution_count": 9,
   "metadata": {},
   "outputs": [],
   "source": [
    "class PoliticianPrize(Base):\n",
    "    __tablename__ = 'politician_prize'\n",
    "\n",
    "    politician_id = Column(String(64), ForeignKey('politician.politician_id'), unique=False, primary_key=True)\n",
    "    politician = relationship(Politician)\n",
    "    prize_id = Column(String(64), ForeignKey('prize.prize_id'), unique=False, primary_key=True)\n",
    "    prize = relationship(Prize)\n",
    "    \n",
    "    def __init__(self, politician, prize):\n",
    "        self.politician = politician\n",
    "        self.prize = prize"
   ]
  },
  {
   "cell_type": "code",
   "execution_count": 10,
   "metadata": {},
   "outputs": [],
   "source": [
    "class Website(Base):\n",
    "    __tablename__ = 'website'\n",
    "    \n",
    "    website_id = Column(String(128), primary_key=True)\n",
    "    politician_id = Column(String(64), ForeignKey('politician.politician_id'), unique=False)\n",
    "    politician = relationship(Politician)\n",
    "    \n",
    "    def __init__(self, website_id, politician):\n",
    "        self.website_id = website_id\n",
    "        self.politician = politician"
   ]
  },
  {
   "cell_type": "code",
   "execution_count": 11,
   "metadata": {},
   "outputs": [],
   "source": [
    "class PoliticalParty(Base):\n",
    "    __tablename__ = 'political_party'\n",
    "    \n",
    "    party_id = Column(String(128), primary_key=True)\n",
    "    \n",
    "    def __init__(self, party_id):\n",
    "        self.party_id = party_id"
   ]
  },
  {
   "cell_type": "code",
   "execution_count": 12,
   "metadata": {},
   "outputs": [],
   "source": [
    "class PoliticianPoliticalParty(Base):\n",
    "    __tablename__ = 'politician_political_party'\n",
    "    \n",
    "    politician_id = Column(String(64), ForeignKey('politician.politician_id'), unique=False, primary_key=True)\n",
    "    politician = relationship(Politician)\n",
    "    party_id = Column(String(64), ForeignKey('political_party.party_id'), unique=False, primary_key=True)\n",
    "    party = relationship(PoliticalParty)\n",
    "    \n",
    "    def __init__(self, politician, party):\n",
    "        self.politician = politician\n",
    "        self.party = party"
   ]
  },
  {
   "cell_type": "code",
   "execution_count": 13,
   "metadata": {},
   "outputs": [],
   "source": [
    "Base.metadata.create_all(engine)"
   ]
  },
  {
   "cell_type": "markdown",
   "metadata": {},
   "source": [
    "## Add data to database"
   ]
  },
  {
   "cell_type": "code",
   "execution_count": 14,
   "metadata": {},
   "outputs": [],
   "source": [
    "from neo4j.v1 import GraphDatabase\n",
    "\n",
    "neo_driver = GraphDatabase.driver(\"bolt://localhost:7687\", auth=(\"neo4j\", \"123\"))\n",
    "neo_session = neo_driver.session()"
   ]
  },
  {
   "cell_type": "code",
   "execution_count": 15,
   "metadata": {},
   "outputs": [],
   "source": [
    "query_limit = '' # 'LIMIT 500'"
   ]
  },
  {
   "cell_type": "markdown",
   "metadata": {},
   "source": [
    "Populate `politician`:"
   ]
  },
  {
   "cell_type": "code",
   "execution_count": 16,
   "metadata": {},
   "outputs": [],
   "source": [
    "def add_politician_country(tx):\n",
    "    for record in tx.run(\"MATCH (politician:Entity)-[:isPoliticianOf]->(country:Entity) \"\n",
    "                         \"WHERE country.name = \\\"<Iran>\\\" \"\n",
    "                         \"RETURN politician.name, country.name {}\".format(query_limit)):\n",
    "        country_name = record['country.name']\n",
    "        politician_name = record['politician.name']\n",
    "        \n",
    "        country = db_session.query(Country).filter(Country.country_id == country_name).first()\n",
    "        if country is None:\n",
    "            country = Country(country_name)\n",
    "            db_session.add(country)\n",
    "    \n",
    "        politician = db_session.query(Politician).filter(Politician.politician_id == politician_name).first()\n",
    "        if politician is None:\n",
    "            politician = Politician(politician_name)\n",
    "            db_session.add(politician)\n",
    "\n",
    "        politician_country = PoliticianCountry(politician, country)\n",
    "        db_session.add(politician_country)\n",
    "\n",
    "neo_session.write_transaction(add_politician_country)"
   ]
  },
  {
   "cell_type": "code",
   "execution_count": 17,
   "metadata": {},
   "outputs": [],
   "source": [
    "def add_politician_gender(tx):\n",
    "    for record in tx.run(\"MATCH (politician:Entity)-[:isPoliticianOf]->(country:Entity) \"\n",
    "                         \"WHERE country.name = \\\"<Iran>\\\" \"\n",
    "                         \"MATCH (politician)-[:hasGender]->(gender) \"\n",
    "                         \"RETURN politician.name, gender.name {}\".format(query_limit)):\n",
    "        gender = record['gender.name'][1:-1]\n",
    "        politician_name = record['politician.name']\n",
    "            \n",
    "        politician = db_session.query(Politician).filter(Politician.politician_id == politician_name).first()\n",
    "        if politician is None:\n",
    "            continue\n",
    "        politician.gender = gender\n",
    "\n",
    "        db_session.add(politician)\n",
    "\n",
    "neo_session.write_transaction(add_politician_gender)"
   ]
  },
  {
   "cell_type": "code",
   "execution_count": 18,
   "metadata": {},
   "outputs": [],
   "source": [
    "def add_politician_university(tx):\n",
    "    for record in tx.run(\"MATCH (politician:Entity)-[:isPoliticianOf]->(country:Entity) \"\n",
    "                         \"WHERE country.name = \\\"<Iran>\\\" \"\n",
    "                         \"MATCH (politician)-[:graduatedFrom]->(university:Entity) \"\n",
    "                         \"RETURN politician.name, university.name {}\".format(query_limit)):\n",
    "        university_name = record['university.name']\n",
    "        politician_name = record['politician.name']\n",
    " \n",
    "        politician = db_session.query(Politician).filter(Politician.politician_id == politician_name).first()\n",
    "        if politician is None:\n",
    "            continue\n",
    "\n",
    "        university = db_session.query(University).filter(University.university_id == university_name).first()\n",
    "        if university is None:\n",
    "            university = University(university_name)\n",
    "            db_session.add(university)\n",
    "            \n",
    "        politician_university = PoliticianUniversity(politician, university)\n",
    "        db_session.add(politician_university)\n",
    "\n",
    "neo_session.write_transaction(add_politician_university)"
   ]
  },
  {
   "cell_type": "code",
   "execution_count": 19,
   "metadata": {},
   "outputs": [],
   "source": [
    "def add_politician_given_name(tx):\n",
    "    for record in tx.run(\"MATCH (politician:Entity)-[:isPoliticianOf]->(country:Entity) \"\n",
    "                         \"WHERE country.name = \\\"<Iran>\\\" \"\n",
    "                         \"MATCH (politician)-[:hasGivenName]->(givenName) \"\n",
    "                         \"RETURN politician.name, givenName.name {}\".format(query_limit)):\n",
    "        given_name = record['givenName.name']\n",
    "        politician_name = record['politician.name']\n",
    " \n",
    "        politician = db_session.query(Politician).filter(Politician.politician_id == politician_name).first()\n",
    "        if politician is None:\n",
    "            continue\n",
    "        politician.given_name = given_name\n",
    "        \n",
    "        db_session.add(politician)\n",
    "\n",
    "neo_session.write_transaction(add_politician_given_name)"
   ]
  },
  {
   "cell_type": "code",
   "execution_count": 20,
   "metadata": {},
   "outputs": [],
   "source": [
    "def add_politician_family_name(tx):\n",
    "    for record in tx.run(\"MATCH (politician:Entity)-[:isPoliticianOf]->(country:Entity) \"\n",
    "                         \"WHERE country.name = \\\"<Iran>\\\" \"\n",
    "                         \"MATCH (politician:Entity)-[:hasFamilyName]->(familyName) \"\n",
    "                         \"RETURN politician.name, familyName.name {}\".format(query_limit)):\n",
    "        family_name = record['familyName.name']\n",
    "        politician_name = record['politician.name']\n",
    " \n",
    "        politician = db_session.query(Politician).filter(Politician.politician_id == politician_name).first()\n",
    "        if politician is None:\n",
    "            continue\n",
    "        politician.family_name = family_name\n",
    "        \n",
    "        db_session.add(politician)\n",
    "\n",
    "neo_session.write_transaction(add_politician_family_name)"
   ]
  },
  {
   "cell_type": "code",
   "execution_count": 21,
   "metadata": {},
   "outputs": [],
   "source": [
    "def add_politician_prize(tx):\n",
    "    for record in tx.run(\"MATCH (politician:Entity)-[:isPoliticianOf]->(country:Entity) \"\n",
    "                         \"WHERE country.name = \\\"<Iran>\\\" \"\n",
    "                         \"MATCH (politician)-[:hasWonPrize]->(prize) \"\n",
    "                         \"RETURN politician.name, prize.name {}\".format(query_limit)):\n",
    "        prize_name = record['prize.name']\n",
    "        politician_name = record['politician.name']\n",
    "        \n",
    "        prize = db_session.query(Prize).filter(Prize.prize_id == prize_name).first()\n",
    "        if prize is None:\n",
    "            prize = Prize(prize_name)\n",
    "            db_session.add(prize)\n",
    "    \n",
    "        politician = db_session.query(Politician).filter(Politician.politician_id == politician_name).first()\n",
    "        if politician is None:\n",
    "            continue\n",
    "\n",
    "        politician_prize = PoliticianPrize(politician, prize)\n",
    "        db_session.add(politician_prize)\n",
    "\n",
    "neo_session.write_transaction(add_politician_prize)"
   ]
  },
  {
   "cell_type": "code",
   "execution_count": 22,
   "metadata": {},
   "outputs": [],
   "source": [
    "def add_politician_website(tx):\n",
    "    for record in tx.run(\"MATCH (politician:Entity)-[:isPoliticianOf]->(country:Entity) \"\n",
    "                         \"WHERE country.name = \\\"<Iran>\\\" \"\n",
    "                         \"MATCH (politician)-[:hasWebsite]->(website) \"\n",
    "                         \"RETURN politician.name, website.name {}\".format(query_limit)):\n",
    "        website_name = record['website.name']\n",
    "        politician_name = record['politician.name']\n",
    "        \n",
    "        politician = db_session.query(Politician).filter(Politician.politician_id == politician_name).first()\n",
    "        if politician is None:\n",
    "            continue\n",
    "        \n",
    "        website = db_session.query(Website).filter(Website.website_id == website_name).first()\n",
    "        if website is not None:\n",
    "            continue\n",
    "        website = Website(website_name, politician)\n",
    "        db_session.add(website)\n",
    "\n",
    "neo_session.write_transaction(add_politician_website)"
   ]
  },
  {
   "cell_type": "code",
   "execution_count": 23,
   "metadata": {},
   "outputs": [],
   "source": [
    "def add_politician_political_party(tx):\n",
    "    for record in tx.run(\"MATCH (politician:Entity)-[:isPoliticianOf]->(country:Entity) \"\n",
    "                         \"WHERE country.name = \\\"<Iran>\\\" \"\n",
    "                         \"MATCH (politician)-[:isAffiliatedTo]->(party:Entity) \"\n",
    "                         \"MATCH (party)-[:type]->(party_type:Entity) \"\n",
    "                         \"WHERE party_type.name = \\\"<wikicat_Political_parties_in_Iran>\\\" \"\n",
    "                         \"RETURN politician.name, party.name {}\".format(query_limit)):\n",
    "        party_name = record['party.name']\n",
    "        politician_name = record['politician.name']\n",
    "        \n",
    "        party = db_session.query(PoliticalParty).filter(PoliticalParty.party_id == party_name).first()\n",
    "        if party is None:\n",
    "            party = PoliticalParty(party_name)\n",
    "            db_session.add(party)\n",
    "    \n",
    "        politician = db_session.query(Politician).filter(Politician.politician_id == politician_name).first()\n",
    "        if politician is None:\n",
    "            continue\n",
    "\n",
    "        politician_party = PoliticianPoliticalParty(politician, party)\n",
    "        db_session.add(politician_party)\n",
    "\n",
    "neo_session.write_transaction(add_politician_political_party)"
   ]
  },
  {
   "cell_type": "code",
   "execution_count": 24,
   "metadata": {},
   "outputs": [],
   "source": [
    "db_session.commit()"
   ]
  },
  {
   "cell_type": "code",
   "execution_count": 25,
   "metadata": {},
   "outputs": [],
   "source": [
    "db_session.close()"
   ]
  },
  {
   "cell_type": "code",
   "execution_count": null,
   "metadata": {},
   "outputs": [],
   "source": []
  }
 ],
 "metadata": {
  "kernelspec": {
   "display_name": "db-kernel",
   "language": "python",
   "name": "db-kernel"
  },
  "language_info": {
   "codemirror_mode": {
    "name": "ipython",
    "version": 3
   },
   "file_extension": ".py",
   "mimetype": "text/x-python",
   "name": "python",
   "nbconvert_exporter": "python",
   "pygments_lexer": "ipython3",
   "version": "3.6.5"
  }
 },
 "nbformat": 4,
 "nbformat_minor": 2
}
