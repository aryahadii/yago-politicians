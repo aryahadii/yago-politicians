{
 "cells": [
  {
   "cell_type": "markdown",
   "metadata": {},
   "source": [
    "## Init Relational Database"
   ]
  },
  {
   "cell_type": "code",
   "execution_count": 1,
   "metadata": {},
   "outputs": [],
   "source": [
    "from sqlalchemy import create_engine\n",
    "from sqlalchemy.orm import sessionmaker\n",
    "\n",
    "engine = create_engine('sqlite:///yago.db')\n",
    "DBSession = sessionmaker(bind=engine)\n",
    "db_session = DBSession()"
   ]
  },
  {
   "cell_type": "markdown",
   "metadata": {},
   "source": [
    "Define tables:"
   ]
  },
  {
   "cell_type": "code",
   "execution_count": 2,
   "metadata": {},
   "outputs": [],
   "source": [
    "from sqlalchemy import Column, String, Integer, ForeignKey, CHAR\n",
    "from sqlalchemy.ext.declarative import declarative_base\n",
    "from sqlalchemy.orm import relationship\n",
    "import sqlite3\n",
    "\n",
    "Base = declarative_base()"
   ]
  },
  {
   "cell_type": "code",
   "execution_count": 3,
   "metadata": {},
   "outputs": [],
   "source": [
    "class Country(Base):\n",
    "    __tablename__ = 'country'\n",
    "    \n",
    "    country_id = Column(String(64), primary_key=True)\n",
    "    \n",
    "    def __init__(self, country_id):\n",
    "        self.country_id = country_id"
   ]
  },
  {
   "cell_type": "code",
   "execution_count": 4,
   "metadata": {},
   "outputs": [],
   "source": [
    "class Politician(Base):\n",
    "    __tablename__ = 'politician'\n",
    "    \n",
    "    politician_id = Column(String(64), primary_key=True)\n",
    "    family_name = Column(String(64))\n",
    "    given_name = Column(String(64))\n",
    "    gender = Column(String(8))\n",
    "    \n",
    "    def __init__(self, politician_id):\n",
    "        self.politician_id = politician_id"
   ]
  },
  {
   "cell_type": "code",
   "execution_count": 5,
   "metadata": {},
   "outputs": [],
   "source": [
    "class PoliticianLabel(Base):\n",
    "    __tablename__ = 'politician_label'\n",
    "    \n",
    "    politician_id = Column(String(64), ForeignKey('politician.politician_id'), primary_key=True)\n",
    "    politician = relationship(Politician)\n",
    "    label = Column(String(256), primary_key=True)\n",
    "    \n",
    "    def __init__(self, politician, label):\n",
    "        self.politician = politician\n",
    "        self.label = label"
   ]
  },
  {
   "cell_type": "code",
   "execution_count": 6,
   "metadata": {},
   "outputs": [],
   "source": [
    "class PresidentOfCountry(Base):\n",
    "    __tablename__ = 'president_of_country'\n",
    "    \n",
    "    politician_id = Column(String(64), ForeignKey('politician.politician_id'), primary_key=True)\n",
    "    politician = relationship(Politician)\n",
    "    country_id = Column(String(64), ForeignKey('country.country_id'), primary_key=True)\n",
    "    country = relationship(Country)\n",
    "    \n",
    "    def __init__(self, politician, country):\n",
    "        self.politician = politician\n",
    "        self.country = country"
   ]
  },
  {
   "cell_type": "code",
   "execution_count": 7,
   "metadata": {},
   "outputs": [],
   "source": [
    "class PoliticalParty(Base):\n",
    "    __tablename__ = 'political_party'\n",
    "    \n",
    "    party_id = Column(String(128), primary_key=True)\n",
    "    \n",
    "    def __init__(self, party_id):\n",
    "        self.party_id = party_id"
   ]
  },
  {
   "cell_type": "code",
   "execution_count": 8,
   "metadata": {},
   "outputs": [],
   "source": [
    "class PoliticalPartyAffiliation(Base):\n",
    "    __tablename__ = 'political_party_affiliation'\n",
    "\n",
    "    politician_id = Column(String(64), ForeignKey('politician.politician_id'), primary_key=True)\n",
    "    politician = relationship(Politician)\n",
    "    party_id = Column(String(64), ForeignKey('political_party.party_id'), primary_key=True)\n",
    "    party = relationship(PoliticalParty)\n",
    "    \n",
    "    def __init__(self, politician, party):\n",
    "        self.politician = politician\n",
    "        self.party = party"
   ]
  },
  {
   "cell_type": "code",
   "execution_count": 9,
   "metadata": {},
   "outputs": [],
   "source": [
    "class War(Base):\n",
    "    __tablename__ = 'war'\n",
    "    \n",
    "    war_id = Column(String(128), primary_key=True)\n",
    "    \n",
    "    def __init__(self, war_id):\n",
    "        self.war_id = war_id"
   ]
  },
  {
   "cell_type": "code",
   "execution_count": 10,
   "metadata": {},
   "outputs": [],
   "source": [
    "class CountryDealsWith(Base):\n",
    "    __tablename__ = 'country_deals_with'\n",
    "\n",
    "    first_country_id = Column(String(64), ForeignKey('country.country_id'), primary_key=True)\n",
    "    first_country = relationship(Country, foreign_keys=[first_country_id])\n",
    "    second_country_id = Column(String(64), ForeignKey('country.country_id'), primary_key=True)\n",
    "    second_country = relationship(Country, foreign_keys=[second_country_id])\n",
    "    \n",
    "    def __init__(self, first_country, second_country):\n",
    "        self.first_country = first_country\n",
    "        self.second_country = second_country"
   ]
  },
  {
   "cell_type": "code",
   "execution_count": 11,
   "metadata": {},
   "outputs": [],
   "source": [
    "class HasChild(Base):\n",
    "    __tablename__ = 'has_child'\n",
    "\n",
    "    parent_id = Column(String(64), ForeignKey('politician.politician_id'), primary_key=True)\n",
    "    parent = relationship(Politician, foreign_keys=[parent_id])\n",
    "    child_id = Column(String(64), ForeignKey('politician.politician_id'), primary_key=True)\n",
    "    child = relationship(Politician, foreign_keys=[child_id])\n",
    "    \n",
    "    def __init__(self, parent, child):\n",
    "        self.parent = parent\n",
    "        self.child = child"
   ]
  },
  {
   "cell_type": "code",
   "execution_count": 12,
   "metadata": {},
   "outputs": [],
   "source": [
    "class PoliticianSuicide(Base):\n",
    "    __tablename__ = 'politician_suicide'\n",
    "\n",
    "    politician_id = Column(String(64), ForeignKey('politician.politician_id'), primary_key=True)\n",
    "    politician = relationship(Politician)\n",
    "    \n",
    "    def __init__(self, politician):\n",
    "        self.politician = politician"
   ]
  },
  {
   "cell_type": "code",
   "execution_count": 13,
   "metadata": {},
   "outputs": [],
   "source": [
    "class Activist(Base):\n",
    "    __tablename__ = 'activist'\n",
    "\n",
    "    activist_id = Column(String(64), primary_key=True)\n",
    "    \n",
    "    def __init__(self, activist_id):\n",
    "        self.activist_id = activist_id"
   ]
  },
  {
   "cell_type": "code",
   "execution_count": 14,
   "metadata": {},
   "outputs": [],
   "source": [
    "class Ambassador(Base):\n",
    "    __tablename__ = 'ambassador'\n",
    "\n",
    "    ambassador_id = Column(String(64), primary_key=True)\n",
    "    country_id = Column(String(64), ForeignKey('country.country_id'))\n",
    "    country = relationship(Country, foreign_keys=[country_id])\n",
    "    \n",
    "    def __init__(self, ambassador_id, country):\n",
    "        self.ambassador_id = ambassador_id\n",
    "        self.country = country"
   ]
  },
  {
   "cell_type": "code",
   "execution_count": 15,
   "metadata": {},
   "outputs": [],
   "source": [
    "class MajlisRepresentative(Base):\n",
    "    __tablename__ = 'majlis_representative'\n",
    "\n",
    "    politician_id = Column(String(64), ForeignKey('politician.politician_id'), primary_key=True)\n",
    "    politician = relationship(Politician)\n",
    "    \n",
    "    def __init__(self, politician):\n",
    "        self.politician = politician"
   ]
  },
  {
   "cell_type": "code",
   "execution_count": 16,
   "metadata": {},
   "outputs": [],
   "source": [
    "Base.metadata.create_all(engine)"
   ]
  },
  {
   "cell_type": "markdown",
   "metadata": {},
   "source": [
    "## Add data to database"
   ]
  },
  {
   "cell_type": "code",
   "execution_count": 17,
   "metadata": {},
   "outputs": [],
   "source": [
    "from neo4j.v1 import GraphDatabase\n",
    "\n",
    "neo_driver = GraphDatabase.driver(\"bolt://localhost:7687\", auth=(\"neo4j\", \"123\"))\n",
    "neo_session = neo_driver.session()"
   ]
  },
  {
   "cell_type": "code",
   "execution_count": 18,
   "metadata": {},
   "outputs": [],
   "source": [
    "query_limit = '' # 'LIMIT 500'"
   ]
  },
  {
   "cell_type": "markdown",
   "metadata": {},
   "source": [
    "Populate tables:"
   ]
  },
  {
   "cell_type": "code",
   "execution_count": 19,
   "metadata": {},
   "outputs": [],
   "source": [
    "from itertools import chain\n",
    "\n",
    "def add_iran_deals(tx):\n",
    "    query_iran_first = tx.run(\"MATCH (first:Entity)-[:dealsWith]->(second:Entity) \"\n",
    "                              \"WHERE first.name = '<Iran>'\"\n",
    "                              \"RETURN first.name, second.name {}\".format(query_limit))\n",
    "    query_iran_second = tx.run(\"MATCH (first:Entity)-[:dealsWith]->(second:Entity) \"\n",
    "                               \"WHERE second.name = '<Iran>'\"\n",
    "                               \"RETURN first.name, second.name {}\".format(query_limit))\n",
    "    for record in chain(query_iran_first, query_iran_second):\n",
    "        first_country_name = record['first.name']\n",
    "        second_country_name = record['second.name']\n",
    "\n",
    "        first_country = db_session.query(Country).filter(Country.country_id == first_country_name).first()\n",
    "        second_country = db_session.query(Country).filter(Country.country_id == second_country_name).first()\n",
    "        \n",
    "        if first_country is not None and second_country is not None:\n",
    "            continue\n",
    "        \n",
    "        if first_country is None:\n",
    "            first_country = Country(first_country_name)\n",
    "            db_session.add(first_country)\n",
    "            \n",
    "        if second_country is None:\n",
    "            second_country = Country(second_country_name)\n",
    "            db_session.add(second_country)\n",
    "            \n",
    "        deal = CountryDealsWith(first_country, second_country)\n",
    "        db_session.add(deal)\n",
    "\n",
    "neo_session.read_transaction(add_iran_deals)"
   ]
  },
  {
   "cell_type": "code",
   "execution_count": 20,
   "metadata": {},
   "outputs": [],
   "source": [
    "from itertools import chain\n",
    "\n",
    "def add_iranian_politicians(tx):\n",
    "    query_by_type = tx.run(\"MATCH (politician:Entity)-[:type]->(polType:Entity) \"\n",
    "                           \"MATCH (politician)-[:label]->(polLabel:Label) \"\n",
    "                           \"WHERE polType.name = \\\"<wikicat_Iranian_politicians>\\\" \"\n",
    "                           \"RETURN politician.name, polLabel.name {}\".format(query_limit))\n",
    "    query_by_is_politician = tx.run(\"MATCH (politician:Entity)-[:isPoliticianOf]->(country:Entity) \"\n",
    "                                    \"MATCH (politician)-[:label]->(polLabel:Label) \"\n",
    "                                    \"WHERE country.name = \\\"<Iran>\\\" \"\n",
    "                                    \"RETURN politician.name, polLabel.name {}\".format(query_limit))\n",
    "    query_majlis_representatives = tx.run(\"MATCH (politician:Entity)-[:type]->(polType:Entity) \"\n",
    "                                          \"MATCH (politician)-[:label]->(polLabel:Label) \"\n",
    "                                          \"WHERE polType.name = \\\"<wikicat_Iranian_Majlis_Representatives>\\\" \"\n",
    "                                          \"RETURN politician.name, polLabel.name {}\".format(query_limit))\n",
    "\n",
    "    for record in chain(query_by_type, query_by_is_politician, query_majlis_representatives):\n",
    "        politician_name = record['politician.name']\n",
    "        \n",
    "        politician = db_session.query(Politician).filter(Politician.politician_id == politician_name).first()\n",
    "        if politician is not None:\n",
    "            continue\n",
    "\n",
    "        politician = Politician(politician_name)\n",
    "        db_session.add(politician)\n",
    "        \n",
    "        politician_label = PoliticianLabel(politician, record['polLabel.name'])\n",
    "        db_session.add(politician_label)\n",
    "\n",
    "neo_session.read_transaction(add_iranian_politicians)"
   ]
  },
  {
   "cell_type": "code",
   "execution_count": 21,
   "metadata": {},
   "outputs": [],
   "source": [
    "from itertools import chain\n",
    "\n",
    "def add_iranian_politicians_name(tx):\n",
    "    query_by_type = tx.run(\"MATCH (politician:Entity)-[:type]->(polType:Entity {name: '<wikicat_Iranian_politicians>'}) \"\n",
    "                           \"WITH politician AS person \"\n",
    "                           \"MATCH (person)-[:hasGivenName]->(givenName:Label) \"\n",
    "                           \"MATCH (person)-[:hasFamilyName]->(familyName:Label) \"\n",
    "                           \"RETURN person.name, givenName.name, familyName.name\")\n",
    "    query_by_is_politician = tx.run(\"MATCH (politician:Entity)-[:isPoliticianOf]->(country:Entity {name: '<Iran>'}) \"\n",
    "                                    \"WITH politician AS person \"\n",
    "                                    \"MATCH (person)-[:hasGivenName]->(givenName:Label) \"\n",
    "                                    \"MATCH (person)-[:hasFamilyName]->(familyName:Label) \"\n",
    "                                    \"RETURN person.name, givenName.name, familyName.name\")\n",
    "    query_majlis_representatives = tx.run(\"MATCH (politician:Entity)-[:type]->(polType:Entity {name: '<wikicat_Iranian_Majlis_Representatives>'}) \"\n",
    "                           \"WITH politician AS person \"\n",
    "                           \"MATCH (person)-[:hasGivenName]->(givenName:Label) \"\n",
    "                           \"MATCH (person)-[:hasFamilyName]->(familyName:Label) \"\n",
    "                           \"RETURN person.name, givenName.name, familyName.name\")\n",
    "\n",
    "\n",
    "    for record in chain(query_by_type, query_by_is_politician, query_majlis_representatives):\n",
    "        politician_name = record['person.name']\n",
    "        givenName_name = record['givenName.name']\n",
    "        familyName_name = record['familyName.name']\n",
    "        \n",
    "        politician = db_session.query(Politician).filter(Politician.politician_id == politician_name).first()\n",
    "        if politician is None:\n",
    "            continue\n",
    "\n",
    "        politician.given_name = givenName_name\n",
    "        politician.family_name = familyName_name\n",
    "        db_session.add(politician)\n",
    "\n",
    "neo_session.read_transaction(add_iranian_politicians_name)"
   ]
  },
  {
   "cell_type": "code",
   "execution_count": 22,
   "metadata": {},
   "outputs": [],
   "source": [
    "from itertools import chain\n",
    "\n",
    "def add_iranian_politicians_gender(tx):\n",
    "    query_by_type = tx.run(\"MATCH (politician:Entity)-[:type]->(polType:Entity {name: '<wikicat_Iranian_politicians>'}) \"\n",
    "                           \"WITH politician AS person \"\n",
    "                           \"MATCH (person)-[:hasGender]->(gender:Entity) \"\n",
    "                           \"RETURN person.name, gender.name\")\n",
    "    query_by_is_politician = tx.run(\"MATCH (politician:Entity)-[:isPoliticianOf]->(country:Entity {name: '<Iran>'}) \"\n",
    "                                    \"WITH politician AS person \"\n",
    "                                    \"MATCH (person)-[:hasGender]->(gender:Entity) \"\n",
    "                                    \"RETURN person.name, gender.name\")\n",
    "\n",
    "    for record in chain(query_by_type, query_by_is_politician):\n",
    "        politician_name = record['person.name']\n",
    "        gender_name = record['gender.name'][1:-1]\n",
    "        \n",
    "        politician = db_session.query(Politician).filter(Politician.politician_id == politician_name).first()\n",
    "        if politician is None:\n",
    "            continue\n",
    "\n",
    "        politician.gender = gender_name\n",
    "        db_session.add(politician)\n",
    "\n",
    "neo_session.read_transaction(add_iranian_politicians_gender)"
   ]
  },
  {
   "cell_type": "code",
   "execution_count": 23,
   "metadata": {},
   "outputs": [],
   "source": [
    "from itertools import chain\n",
    "\n",
    "def add_politicians_children(tx):\n",
    "    query_by_type = tx.run(\"MATCH (politician:Entity)-[:type]->(:Entity {name: '<wikicat_Iranian_politicians>'}) \"\n",
    "                           \"WITH politician AS parent \"\n",
    "                           \"MATCH (parent)-[:hasChild]->(child:Entity) \"\n",
    "                           \"RETURN parent.name, child.name\")\n",
    "    query_by_is_politician = tx.run(\"MATCH (politician:Entity)-[:isPoliticianOf]->(:Entity {name: '<Iran>'}) \"\n",
    "                                    \"WITH politician AS parent \"\n",
    "                                    \"MATCH (parent)-[:hasChild]->(child:Entity) \"\n",
    "                                    \"RETURN parent.name, child.name\")\n",
    "\n",
    "    for record in chain(query_by_type, query_by_is_politician):\n",
    "        parent_name = record['parent.name']\n",
    "        child_name = record['child.name']\n",
    "        \n",
    "        parent = db_session.query(Politician).filter(Politician.politician_id == parent_name).first()\n",
    "        child = db_session.query(Politician).filter(Politician.politician_id == child_name).first()\n",
    "        if parent is None or child is None:\n",
    "            continue\n",
    "\n",
    "        has_child = db_session.query(HasChild).filter(HasChild.parent_id == parent_name and HasChild.child_id == child_name).first()\n",
    "        if has_child is not None:\n",
    "            continue\n",
    "        relationship = HasChild(parent, child)\n",
    "        db_session.add(relationship)\n",
    "\n",
    "neo_session.read_transaction(add_politicians_children)"
   ]
  },
  {
   "cell_type": "code",
   "execution_count": 24,
   "metadata": {},
   "outputs": [],
   "source": [
    "def add_wikicat_presidents_of_iran(tx):\n",
    "    iran = db_session.query(Country).filter(Country.country_id == '<Iran>').first()\n",
    "    \n",
    "    for record in tx.run(\"MATCH (politician:Entity)-[:type]->(polType:Entity) \"\n",
    "                         \"WHERE polType.name = \\\"<wikicat_Presidents_of_Iran>\\\" \"\n",
    "                         \"RETURN politician.name {}\".format(query_limit)):\n",
    "        politician_name = record['politician.name']\n",
    "        \n",
    "        politician = db_session.query(Politician).filter(Politician.politician_id == politician_name).first()\n",
    "        if politician is None:\n",
    "            politician = Politician(politician_name)\n",
    "            db_session.add(politician)\n",
    "        \n",
    "        president_of_iran = PresidentOfCountry(politician, iran)\n",
    "        db_session.add(president_of_iran)\n",
    "\n",
    "neo_session.read_transaction(add_wikicat_presidents_of_iran)"
   ]
  },
  {
   "cell_type": "code",
   "execution_count": 25,
   "metadata": {},
   "outputs": [],
   "source": [
    "def add_wikicat_political_parties_in_iran(tx):\n",
    "    for record in tx.run(\"MATCH (party:Entity)-[:type]->(partyType:Entity) \"\n",
    "                         \"MATCH (politician:Entity)-[:isAffiliatedTo]->(party) \"\n",
    "                         \"WHERE partyType.name = \\\"<wikicat_Political_parties_in_Iran>\\\" \"\n",
    "                         \"RETURN party.name, politician.name {}\".format(query_limit)):\n",
    "        party_name = record['party.name']\n",
    "        politician_name = record['politician.name']\n",
    "\n",
    "        party = db_session.query(PoliticalParty).filter(PoliticalParty.party_id == party_name).first()\n",
    "        if party is None:\n",
    "            party = PoliticalParty(party_name)\n",
    "            db_session.add(party)\n",
    "        \n",
    "        politician = db_session.query(Politician).filter(Politician.politician_id == politician_name).first()\n",
    "        if politician is None:\n",
    "            politician = Politician(politician_name)\n",
    "            db_session.add(politician)\n",
    "        \n",
    "        affiliation = PoliticalPartyAffiliation(politician, party)\n",
    "        db_session.add(affiliation)\n",
    "\n",
    "neo_session.read_transaction(add_wikicat_political_parties_in_iran)"
   ]
  },
  {
   "cell_type": "code",
   "execution_count": 26,
   "metadata": {},
   "outputs": [],
   "source": [
    "def add_wikicat_wars_involving_iran(tx):    \n",
    "    for record in tx.run(\"MATCH (war:Entity)-[:type]->(warType:Entity) \"\n",
    "                         \"WHERE warType.name = \\\"<wikicat_Wars_involving_Iran>\\\" \"\n",
    "                         \"RETURN war.name {}\".format(query_limit)):\n",
    "        war_name = record['war.name']\n",
    "\n",
    "        war = db_session.query(War).filter(War.war_id == war_name).first()\n",
    "        if war is None:\n",
    "            war = War(war_name)\n",
    "            db_session.add(war)\n",
    "\n",
    "neo_session.read_transaction(add_wikicat_wars_involving_iran)"
   ]
  },
  {
   "cell_type": "code",
   "execution_count": 27,
   "metadata": {},
   "outputs": [],
   "source": [
    "def add_suicides(tx):\n",
    "    for record in tx.run(\"MATCH (politician:Entity)-[:type]->(:Entity {name: '<wikicat_Iranian_politicians_who_committed_suicide>'})\"\n",
    "                         \"RETURN politician.name\"):\n",
    "        politician_name = record['politician.name']\n",
    "        \n",
    "        politician = db_session.query(Politician).filter(Politician.politician_id == politician_name).first()\n",
    "        if politician is None:\n",
    "            politician = Politician(politician_name)\n",
    "            db_session.add(politician)\n",
    "        \n",
    "        politician_suicide = PoliticianSuicide(politician)\n",
    "        db_session.add(politician_suicide)\n",
    "\n",
    "neo_session.read_transaction(add_suicides)"
   ]
  },
  {
   "cell_type": "code",
   "execution_count": 28,
   "metadata": {},
   "outputs": [],
   "source": [
    "def add_activist(tx):\n",
    "    for record in tx.run(\"MATCH (activist:Entity)-[:type]->(:Entity {name: '<wikicat_Iranian_activists>'})\"\n",
    "                         \"RETURN activist.name\"):\n",
    "        activist_name = record['activist.name']\n",
    "        \n",
    "        activist = db_session.query(Activist).filter(Activist.activist_id == activist_name).first()\n",
    "        if activist is not None:\n",
    "            continue\n",
    "        activist = Activist(activist_name)\n",
    "        db_session.add(activist)\n",
    "\n",
    "neo_session.read_transaction(add_activist)"
   ]
  },
  {
   "cell_type": "code",
   "execution_count": 29,
   "metadata": {},
   "outputs": [],
   "source": [
    "def add_ambassador_to_iran(tx):\n",
    "    for record in tx.run(\"MATCH (ambassador:Entity)-[:type]-(:Entity {name: '<wikicat_Ambassadors_to_Iran>'}) \"\n",
    "                         \"RETURN ambassador.name\"):\n",
    "        ambassador_name = record['ambassador.name']\n",
    "\n",
    "        ambassador = db_session.query(Ambassador).filter(Ambassador.ambassador_id == ambassador_name).first()\n",
    "        if ambassador is not None:\n",
    "            continue\n",
    "        ambassador = Ambassador(ambassador_name)\n",
    "        db_session.add(ambassador)\n",
    "        \n",
    "def add_ambassador_of_iran(tx):\n",
    "    iran = db_session.query(Country).filter(Country.country_id == \"<Iran>\").first()\n",
    "    \n",
    "    for record in tx.run(\"MATCH (ambassador:Entity)-[:type]-(:Entity {name: '<wikicat_Ambassadors_of_Iran>'}) \"\n",
    "                         \"RETURN ambassador.name\"):\n",
    "        ambassador_name = record['ambassador.name']\n",
    "\n",
    "        ambassador = db_session.query(Ambassador).filter(Ambassador.ambassador_id == ambassador_name).first()\n",
    "        if ambassador is not None:\n",
    "            continue\n",
    "        ambassador = Ambassador(ambassador_name, iran)\n",
    "        db_session.add(ambassador)\n",
    "\n",
    "# neo_session.read_transaction(add_ambassador_to_iran)\n",
    "neo_session.read_transaction(add_ambassador_of_iran)"
   ]
  },
  {
   "cell_type": "code",
   "execution_count": 30,
   "metadata": {},
   "outputs": [],
   "source": [
    "def add_majlis_representative(tx):\n",
    "    for record in tx.run(\"MATCH (politician:Entity)-[:type]->(:Entity {name: '<wikicat_Iranian_Majlis_Representatives>'}) \"\n",
    "                         \"RETURN politician.name\"):\n",
    "        politician_name = record['politician.name']\n",
    "        \n",
    "        politician = db_session.query(Politician).filter(Politician.politician_id == politician_name).first()\n",
    "        if politician is None:\n",
    "            continue\n",
    "        \n",
    "        representative = MajlisRepresentative(politician)\n",
    "        db_session.add(representative)\n",
    "\n",
    "neo_session.read_transaction(add_majlis_representative)"
   ]
  },
  {
   "cell_type": "code",
   "execution_count": 31,
   "metadata": {},
   "outputs": [],
   "source": [
    "db_session.commit()"
   ]
  },
  {
   "cell_type": "code",
   "execution_count": 32,
   "metadata": {},
   "outputs": [],
   "source": [
    "db_session.close()"
   ]
  },
  {
   "cell_type": "markdown",
   "metadata": {},
   "source": [
    " "
   ]
  }
 ],
 "metadata": {
  "kernelspec": {
   "display_name": "yago-kernel",
   "language": "python",
   "name": "yago-kernel"
  },
  "language_info": {
   "codemirror_mode": {
    "name": "ipython",
    "version": 3
   },
   "file_extension": ".py",
   "mimetype": "text/x-python",
   "name": "python",
   "nbconvert_exporter": "python",
   "pygments_lexer": "ipython3",
   "version": "3.6.5"
  }
 },
 "nbformat": 4,
 "nbformat_minor": 2
}
